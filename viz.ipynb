{
 "cells": [
  {
   "cell_type": "code",
   "execution_count": 1,
   "metadata": {},
   "outputs": [
    {
     "name": "stderr",
     "output_type": "stream",
     "text": [
      "/home/vlad/anaconda3/lib/python3.7/site-packages/statsmodels/tools/_testing.py:19: FutureWarning: pandas.util.testing is deprecated. Use the functions in the public API at pandas.testing instead.\n",
      "  import pandas.util.testing as tm\n"
     ]
    }
   ],
   "source": [
    "import numpy as np\n",
    "import pandas as pd\n",
    "%matplotlib inline\n",
    "from matplotlib import pyplot as plt\n",
    "import seaborn as sns\n",
    "from scipy import sparse as sps"
   ]
  },
  {
   "cell_type": "code",
   "execution_count": 28,
   "metadata": {},
   "outputs": [
    {
     "name": "stdout",
     "output_type": "stream",
     "text": [
      "{\"nedges\":599,\"nvertices\":100,\"sample_duration\":\"2ms\"}\n",
      "{\"indexing_duration\":\"387µs\"}\n",
      "{\"nfiles\":1,\"write_duration\":\"867µs\"}\n",
      "{\"edge_time\":\"280µs\",\"offset_time\":\"258µs\",\"slice_build_time\":\"12µs\",\"sort_time\":\"209µs\"}\n",
      "{\"load_graph_duration\":\"2ms\"}\n",
      "{\"max_degree\":21,\"nedges\":599,\"nvertices\":100}\n",
      "{\"greedy_color_time\":\"217µs\",\"greedy_ncolors\":7,\"vertex_sort_time\":\"127µs\"}\n",
      "{\"conflict_percent\":50.9960638078293,\"conflicts\":10406524,\"glauber_ncolors\":43,\"greedy_ncolors\":7,\"nsamples\":10000000,\"nthreads\":8}\n",
      "{\"color_cardinalities\":{\"mean\":2.5,\"p0.000\":1.0,\"p0.001\":1.0,\"p0.010\":1.0,\"p0.050\":1.0,\"p0.100\":1.0,\"p0.500\":2.0,\"p0.900\":4.0,\"p0.950\":5.0,\"p0.990\":5.0,\"p1.000\":6.0},\"colors_duration\":\"19s\",\"ncolors\":43}\n",
      "{\"edge_time\":\"338µs\",\"offset_time\":\"311µs\",\"slice_build_time\":\"15µs\",\"sort_time\":\"247µs\"}\n",
      "{\"load_graph_duration\":\"2ms\"}\n",
      "{\"max_degree\":21,\"nedges\":599,\"nvertices\":100}\n",
      "{\"greedy_color_time\":\"256µs\",\"greedy_ncolors\":7,\"vertex_sort_time\":\"143µs\"}\n",
      "{\"conflict_percent\":51.05148507591596,\"conflicts\":10429629,\"glauber_ncolors\":43,\"greedy_ncolors\":7,\"nsamples\":10000000,\"nthreads\":8}\n",
      "{\"color_cardinalities\":{\"mean\":2.5,\"p0.000\":1.0,\"p0.001\":1.0,\"p0.010\":1.0,\"p0.050\":1.0,\"p0.100\":1.0,\"p0.500\":2.0,\"p0.900\":4.0,\"p0.950\":4.0,\"p0.990\":5.0,\"p1.000\":6.0},\"colors_duration\":\"22s\",\"ncolors\":43}\n",
      "{\"edge_time\":\"406µs\",\"offset_time\":\"373µs\",\"slice_build_time\":\"18µs\",\"sort_time\":\"415µs\"}\n",
      "{\"load_graph_duration\":\"3ms\"}\n",
      "{\"max_degree\":21,\"nedges\":599,\"nvertices\":100}\n",
      "{\"greedy_color_time\":\"308µs\",\"greedy_ncolors\":7,\"vertex_sort_time\":\"163µs\"}\n",
      "{\"conflict_percent\":50.763381761978664,\"conflicts\":10310087,\"glauber_ncolors\":43,\"greedy_ncolors\":7,\"nsamples\":10000000,\"nthreads\":8}\n",
      "{\"color_cardinalities\":{\"mean\":2.5641025641025643,\"p0.000\":1.0,\"p0.001\":1.0,\"p0.010\":1.0,\"p0.050\":1.0,\"p0.100\":1.0,\"p0.500\":2.0,\"p0.900\":4.0,\"p0.950\":5.0,\"p0.990\":5.0,\"p1.000\":5.0},\"colors_duration\":\"24s\",\"ncolors\":43}\n",
      "{\"edge_time\":\"402µs\",\"offset_time\":\"390µs\",\"slice_build_time\":\"16µs\",\"sort_time\":\"451µs\"}\n",
      "{\"load_graph_duration\":\"3ms\"}\n",
      "{\"max_degree\":21,\"nedges\":599,\"nvertices\":100}\n",
      "{\"greedy_color_time\":\"308µs\",\"greedy_ncolors\":7,\"vertex_sort_time\":\"173µs\"}\n",
      "{\"conflict_percent\":50.9003235815975,\"conflicts\":10366733,\"glauber_ncolors\":43,\"greedy_ncolors\":7,\"nsamples\":10000000,\"nthreads\":8}\n",
      "{\"color_cardinalities\":{\"mean\":2.6315789473684212,\"p0.000\":1.0,\"p0.001\":1.0,\"p0.010\":1.0,\"p0.050\":1.0,\"p0.100\":1.0,\"p0.500\":2.0,\"p0.900\":5.0,\"p0.950\":5.0,\"p0.990\":5.0,\"p1.000\":6.0},\"colors_duration\":\"24s\",\"ncolors\":43}\n",
      "{\"edge_time\":\"413µs\",\"offset_time\":\"363µs\",\"slice_build_time\":\"18µs\",\"sort_time\":\"285µs\"}\n",
      "{\"load_graph_duration\":\"3ms\"}\n",
      "{\"max_degree\":21,\"nedges\":599,\"nvertices\":100}\n",
      "{\"greedy_color_time\":\"300µs\",\"greedy_ncolors\":7,\"vertex_sort_time\":\"169µs\"}\n",
      "{\"conflict_percent\":50.9788686569965,\"conflicts\":10399366,\"glauber_ncolors\":43,\"greedy_ncolors\":7,\"nsamples\":10000000,\"nthreads\":8}\n",
      "{\"color_cardinalities\":{\"mean\":2.4390243902439024,\"p0.000\":1.0,\"p0.001\":1.0,\"p0.010\":1.0,\"p0.050\":1.0,\"p0.100\":1.0,\"p0.500\":2.0,\"p0.900\":4.0,\"p0.950\":4.0,\"p0.990\":4.0,\"p1.000\":5.0},\"colors_duration\":\"25s\",\"ncolors\":43}\n",
      "{\"edge_time\":\"389µs\",\"offset_time\":\"350µs\",\"slice_build_time\":\"19µs\",\"sort_time\":\"275µs\"}\n",
      "{\"load_graph_duration\":\"3ms\"}\n",
      "{\"max_degree\":21,\"nedges\":599,\"nvertices\":100}\n",
      "{\"greedy_color_time\":\"302µs\",\"greedy_ncolors\":7,\"vertex_sort_time\":\"138µs\"}\n",
      "{\"conflict_percent\":51.053780295201506,\"conflicts\":10430587,\"glauber_ncolors\":43,\"greedy_ncolors\":7,\"nsamples\":10000000,\"nthreads\":8}\n",
      "{\"color_cardinalities\":{\"mean\":2.5,\"p0.000\":1.0,\"p0.001\":1.0,\"p0.010\":1.0,\"p0.050\":1.0,\"p0.100\":1.0,\"p0.500\":2.0,\"p0.900\":4.0,\"p0.950\":5.0,\"p0.990\":5.0,\"p1.000\":5.0},\"colors_duration\":\"24s\",\"ncolors\":43}\n",
      "{\"edge_time\":\"403µs\",\"offset_time\":\"360µs\",\"slice_build_time\":\"16µs\",\"sort_time\":\"284µs\"}\n",
      "{\"load_graph_duration\":\"3ms\"}\n",
      "{\"max_degree\":21,\"nedges\":599,\"nvertices\":100}\n",
      "{\"greedy_color_time\":\"288µs\",\"greedy_ncolors\":7,\"vertex_sort_time\":\"168µs\"}\n",
      "{\"conflict_percent\":50.94464186228267,\"conflicts\":10385133,\"glauber_ncolors\":43,\"greedy_ncolors\":7,\"nsamples\":10000000,\"nthreads\":8}\n",
      "{\"color_cardinalities\":{\"mean\":2.3255813953488373,\"p0.000\":1.0,\"p0.001\":1.0,\"p0.010\":1.0,\"p0.050\":1.0,\"p0.100\":1.0,\"p0.500\":2.0,\"p0.900\":3.0,\"p0.950\":4.0,\"p0.990\":4.0,\"p1.000\":7.0},\"colors_duration\":\"26s\",\"ncolors\":43}\n",
      "{\"edge_time\":\"402µs\",\"offset_time\":\"360µs\",\"slice_build_time\":\"16µs\",\"sort_time\":\"257µs\"}\n",
      "{\"load_graph_duration\":\"3ms\"}\n",
      "{\"max_degree\":21,\"nedges\":599,\"nvertices\":100}\n",
      "{\"greedy_color_time\":\"308µs\",\"greedy_ncolors\":7,\"vertex_sort_time\":\"177µs\"}\n",
      "{\"conflict_percent\":50.80430775191773,\"conflicts\":10326983,\"glauber_ncolors\":43,\"greedy_ncolors\":7,\"nsamples\":10000000,\"nthreads\":8}\n",
      "{\"color_cardinalities\":{\"mean\":2.5,\"p0.000\":1.0,\"p0.001\":1.0,\"p0.010\":1.0,\"p0.050\":1.0,\"p0.100\":1.0,\"p0.500\":2.0,\"p0.900\":4.0,\"p0.950\":4.0,\"p0.990\":5.0,\"p1.000\":5.0},\"colors_duration\":\"25s\",\"ncolors\":43}\n",
      "{\"edge_time\":\"404µs\",\"offset_time\":\"373µs\",\"slice_build_time\":\"18µs\",\"sort_time\":\"286µs\"}\n",
      "{\"load_graph_duration\":\"3ms\"}\n",
      "{\"max_degree\":21,\"nedges\":599,\"nvertices\":100}\n",
      "{\"greedy_color_time\":\"312µs\",\"greedy_ncolors\":7,\"vertex_sort_time\":\"165µs\"}\n",
      "{\"conflict_percent\":51.01473227028445,\"conflicts\":10414301,\"glauber_ncolors\":43,\"greedy_ncolors\":7,\"nsamples\":10000000,\"nthreads\":8}\n",
      "{\"color_cardinalities\":{\"mean\":2.4390243902439024,\"p0.000\":1.0,\"p0.001\":1.0,\"p0.010\":1.0,\"p0.050\":1.0,\"p0.100\":1.0,\"p0.500\":2.0,\"p0.900\":4.0,\"p0.950\":4.0,\"p0.990\":4.0,\"p1.000\":5.0},\"colors_duration\":\"25s\",\"ncolors\":43}\n",
      "{\"edge_time\":\"382µs\",\"offset_time\":\"349µs\",\"slice_build_time\":\"17µs\",\"sort_time\":\"269µs\"}\n",
      "{\"load_graph_duration\":\"3ms\"}\n",
      "{\"max_degree\":21,\"nedges\":599,\"nvertices\":100}\n",
      "{\"greedy_color_time\":\"303µs\",\"greedy_ncolors\":7,\"vertex_sort_time\":\"164µs\"}\n",
      "{\"conflict_percent\":51.15121683051607,\"conflicts\":10471339,\"glauber_ncolors\":43,\"greedy_ncolors\":7,\"nsamples\":10000000,\"nthreads\":8}\n",
      "{\"color_cardinalities\":{\"mean\":2.5,\"p0.000\":1.0,\"p0.001\":1.0,\"p0.010\":1.0,\"p0.050\":1.0,\"p0.100\":1.0,\"p0.500\":2.0,\"p0.900\":5.0,\"p0.950\":5.0,\"p0.990\":5.0,\"p1.000\":6.0},\"colors_duration\":\"24s\",\"ncolors\":43}\n",
      "colors.txt\n",
      "test.0\n",
      "times.txt\n"
     ]
    },
    {
     "name": "stderr",
     "output_type": "stream",
     "text": [
      "    Finished dev [unoptimized + debuginfo] target(s) in 0.02s\n",
      "     Running `target/debug/examples/sample --out test --degree 5 --nvertices 100 --seed 1234`\n",
      "    Finished dev [unoptimized + debuginfo] target(s) in 0.02s\n",
      "     Running `target/debug/examples/color --graph test.0 --nsamples 10000000 --frequency 1000000 --out colors.txt.1 --out-times times.txt.1 --seed 1`\n",
      "    Finished dev [unoptimized + debuginfo] target(s) in 0.02s\n",
      "     Running `target/debug/examples/color --graph test.0 --nsamples 10000000 --frequency 1000000 --out colors.txt.2 --out-times times.txt.2 --seed 2`\n",
      "    Finished dev [unoptimized + debuginfo] target(s) in 0.03s\n",
      "     Running `target/debug/examples/color --graph test.0 --nsamples 10000000 --frequency 1000000 --out colors.txt.3 --out-times times.txt.3 --seed 3`\n",
      "    Finished dev [unoptimized + debuginfo] target(s) in 0.03s\n",
      "     Running `target/debug/examples/color --graph test.0 --nsamples 10000000 --frequency 1000000 --out colors.txt.4 --out-times times.txt.4 --seed 4`\n",
      "    Finished dev [unoptimized + debuginfo] target(s) in 0.03s\n",
      "     Running `target/debug/examples/color --graph test.0 --nsamples 10000000 --frequency 1000000 --out colors.txt.5 --out-times times.txt.5 --seed 5`\n",
      "    Finished dev [unoptimized + debuginfo] target(s) in 0.03s\n",
      "     Running `target/debug/examples/color --graph test.0 --nsamples 10000000 --frequency 1000000 --out colors.txt.6 --out-times times.txt.6 --seed 6`\n",
      "    Finished dev [unoptimized + debuginfo] target(s) in 0.02s\n",
      "     Running `target/debug/examples/color --graph test.0 --nsamples 10000000 --frequency 1000000 --out colors.txt.7 --out-times times.txt.7 --seed 7`\n",
      "    Finished dev [unoptimized + debuginfo] target(s) in 0.03s\n",
      "     Running `target/debug/examples/color --graph test.0 --nsamples 10000000 --frequency 1000000 --out colors.txt.8 --out-times times.txt.8 --seed 8`\n",
      "    Finished dev [unoptimized + debuginfo] target(s) in 0.03s\n",
      "     Running `target/debug/examples/color --graph test.0 --nsamples 10000000 --frequency 1000000 --out colors.txt.9 --out-times times.txt.9 --seed 9`\n",
      "    Finished dev [unoptimized + debuginfo] target(s) in 0.02s\n",
      "     Running `target/debug/examples/color --graph test.0 --nsamples 10000000 --frequency 1000000 --out colors.txt.10 --out-times times.txt.10 --seed 10`\n"
     ]
    }
   ],
   "source": [
    "%%bash\n",
    "\n",
    "cargo run --example sample -- --out test --degree 5 --nvertices 100 --seed 1234\n",
    "\n",
    "for i in $(seq 1 10) ; do\n",
    "cargo run --example color -- --graph test.0 --nsamples 10000000 \\\n",
    "  --frequency 1000000 --out colors.txt.$i --out-times times.txt.$i --seed $i\n",
    "done\n",
    "  \n",
    "ls *.txt test.*"
   ]
  },
  {
   "cell_type": "code",
   "execution_count": 24,
   "metadata": {},
   "outputs": [],
   "source": [
    "colors = [np.loadtxt('colors.txt.{}'.format(i), dtype=int) for i in range(1, 11)]\n",
    "steps = [c[:,0] for c in colors]\n",
    "colors = [c[:, 1:] for c in colors]\n",
    "times = [np.loadtxt('times.txt.{}'.format(i)).ravel() for i in range(1, 11)]"
   ]
  },
  {
   "cell_type": "code",
   "execution_count": 27,
   "metadata": {},
   "outputs": [
    {
     "name": "stdout",
     "output_type": "stream",
     "text": [
      "100000 0.51\n",
      "200000 0.52\n",
      "300000 0.42\n",
      "400000 0.53\n",
      "500000 0.5\n",
      "600000 0.58\n",
      "700000 0.53\n",
      "800000 0.48\n",
      "900000 0.57\n",
      "1000000 0.56\n"
     ]
    }
   ],
   "source": [
    "ncaptures, nvertices = colors[0].shape\n",
    "for i in range(1, ncaptures):\n",
    "    \n",
    "    dists = []\n",
    "    for c in colors:\n",
    "        # in principle glauber could find a better coloring than the initial greedy one\n",
    "        # but the probability of that is vanishingly small\n",
    "        assert len(np.unique(c[0])) <= len(np.unique(c[i]))\n",
    "\n",
    "        # If we could assign each color from colors[i] to one from colors[0]\n",
    "        # then what vertices would still be \"forced\" to be different?\n",
    "\n",
    "        # use sorting to identify the optimal assignment\n",
    "        lex = c[[i, 0]]\n",
    "        ixs = np.lexsort(lex)\n",
    "\n",
    "        assignment = np.zeros(nvertices, dtype=int) - 1\n",
    "        current_key = -1\n",
    "        current_val = -1\n",
    "        current_cnt = 0\n",
    "        current_best_val = -1\n",
    "        current_best_cnt = 0\n",
    "        for r in ixs:\n",
    "            key = lex[0,r]\n",
    "            val = lex[1,r]\n",
    "            if key != current_key:\n",
    "                if current_key >= 0:\n",
    "                    assignment[current_key] = current_best_val\n",
    "                current_key = key\n",
    "                current_best_val = current_val = val\n",
    "                current_best_cnt = current_cnt = 1\n",
    "            else:\n",
    "                if current_val == val:\n",
    "                    current_cnt += 1\n",
    "                if current_cnt > current_best_cnt:\n",
    "                    current_best_val = val\n",
    "                    current_best_cnt = current_cnt\n",
    "        assignment[current_key] = current_best_val\n",
    "\n",
    "        remapped = assignment[c[i]]\n",
    "        assert np.all(remapped >= 0)\n",
    "\n",
    "        dist = (remapped != c[0]).sum() / nvertices\n",
    "        dists.append(dist)\n",
    "    print(steps[0][i], dist)\n"
   ]
  },
  {
   "cell_type": "code",
   "execution_count": 2,
   "metadata": {},
   "outputs": [
    {
     "data": {
      "text/plain": [
       "'1.6.1'"
      ]
     },
     "execution_count": 2,
     "metadata": {},
     "output_type": "execute_result"
    }
   ],
   "source": [
    "import scipy\n",
    "scipy.__version__"
   ]
  },
  {
   "cell_type": "code",
   "execution_count": null,
   "metadata": {},
   "outputs": [],
   "source": []
  }
 ],
 "metadata": {
  "kernelspec": {
   "display_name": "Python 3",
   "language": "python",
   "name": "python3"
  },
  "language_info": {
   "codemirror_mode": {
    "name": "ipython",
    "version": 3
   },
   "file_extension": ".py",
   "mimetype": "text/x-python",
   "name": "python",
   "nbconvert_exporter": "python",
   "pygments_lexer": "ipython3",
   "version": "3.7.4"
  }
 },
 "nbformat": 4,
 "nbformat_minor": 2
}
